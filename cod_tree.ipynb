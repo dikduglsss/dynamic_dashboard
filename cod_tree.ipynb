{
 "cells": [
  {
   "cell_type": "code",
   "execution_count": 1,
   "metadata": {},
   "outputs": [],
   "source": [
    "table_name = \"anti_frod\""
   ]
  },
  {
   "cell_type": "code",
   "execution_count": 2,
   "metadata": {},
   "outputs": [
    {
     "name": "stderr",
     "output_type": "stream",
     "text": [
      "C:\\Users\\idukh\\AppData\\Local\\Temp\\ipykernel_32548\\4040667839.py:14: UserWarning: pandas only supports SQLAlchemy connectable (engine/connection) or database string URI or sqlite3 DBAPI2 connection. Other DBAPI2 objects are not tested. Please consider using SQLAlchemy.\n",
      "  df = pd.read_sql_query(f\"SELECT * FROM {table_name}\", conn)\n"
     ]
    }
   ],
   "source": [
    "import psycopg2\n",
    "import pandas as pd\n",
    "\n",
    "# Настройка соединения с базой данных PostgreSQL\n",
    "conn = psycopg2.connect(\n",
    "    user=\"postgres\",\n",
    "    password=\"1\",\n",
    "    host=\"localhost\",\n",
    "    port=\"5435\",\n",
    "    database=\"postgres\"\n",
    ")\n",
    "\n",
    "# Используем pandas для загрузки данных в DataFrame\n",
    "df = pd.read_sql_query(f\"SELECT * FROM {table_name}\", conn)\n",
    "\n",
    "# Закрываем соединение\n",
    "conn.close()\n"
   ]
  },
  {
   "cell_type": "code",
   "execution_count": 3,
   "metadata": {},
   "outputs": [
    {
     "name": "stdout",
     "output_type": "stream",
     "text": [
      "Event Time Column: event_time\n",
      "Event Type Column: event_type\n"
     ]
    }
   ],
   "source": [
    "import psycopg2\n",
    "\n",
    "def find_columns(table_name, conn):\n",
    "    # Ключевые слова для поиска времени и типа события\n",
    "    event_time_keywords = ['event', 'time', 'timestamp', 'date']\n",
    "    event_type_keywords = ['event', 'type', 'category', 'action']\n",
    "\n",
    "    def column_score(column_name, data_type, keywords, target_types):\n",
    "        score = 0\n",
    "        column_name_lower = column_name.lower()\n",
    "\n",
    "        # Увеличиваем вес для точных ключевых слов\n",
    "        for keyword in keywords:\n",
    "            if keyword in column_name_lower:\n",
    "                score += 2\n",
    "            if column_name_lower.startswith(keyword) or column_name_lower.endswith(keyword):\n",
    "                score += 1\n",
    "\n",
    "        # Увеличиваем вес, если тип данных совпадает с целевым\n",
    "        if data_type in target_types:\n",
    "            score += 3\n",
    "        return score\n",
    "\n",
    "    # Подключение и выполнение запроса для получения столбцов таблицы с их типами данных\n",
    "    with conn.cursor() as cur:\n",
    "        cur.execute(f\"\"\"\n",
    "            SELECT column_name, data_type \n",
    "            FROM information_schema.columns \n",
    "            WHERE table_name = %s\n",
    "        \"\"\", (table_name,))\n",
    "        \n",
    "        columns = cur.fetchall()\n",
    "\n",
    "    # Поиск столбца для времени события\n",
    "    event_time_column = max(\n",
    "        columns, \n",
    "        key=lambda col: column_score(col[0], col[1], event_time_keywords, ['Timestamp', 'time'])\n",
    "    )\n",
    "\n",
    "    # Поиск столбца для типа события\n",
    "    event_type_column = max(\n",
    "        columns, \n",
    "        key=lambda col: column_score(col[0], col[1], event_type_keywords, ['text'])\n",
    "    )\n",
    "\n",
    "    return event_time_column[0], event_type_column[0]\n",
    "\n",
    "# Пример подключения к базе данных\n",
    "conn = psycopg2.connect(\n",
    "    user=\"postgres\",\n",
    "    password=\"1\",\n",
    "    host=\"localhost\",\n",
    "    port=\"5435\",\n",
    "    database=\"postgres\"\n",
    ")\n",
    "\n",
    "# Поиск столбцов\n",
    "event_time_column, event_type_column = find_columns(table_name, conn)\n",
    "print(f\"Event Time Column: {event_time_column}\")\n",
    "print(f\"Event Type Column: {event_type_column}\")\n",
    "\n",
    "# Закрытие соединения\n",
    "conn.close()\n"
   ]
  },
  {
   "cell_type": "code",
   "execution_count": 4,
   "metadata": {},
   "outputs": [],
   "source": [
    "time_1 = False\n",
    "time_6 = False"
   ]
  },
  {
   "cell_type": "code",
   "execution_count": 5,
   "metadata": {},
   "outputs": [],
   "source": [
    "if event_time_column != '' or event_type_column != '':\n",
    "    time_1 = True"
   ]
  },
  {
   "cell_type": "code",
   "execution_count": 6,
   "metadata": {},
   "outputs": [],
   "source": [
    "numeric_columns = df.select_dtypes(include='number')\n",
    "\n",
    "correlation_matrix = numeric_columns.corr()\n",
    "final_query = []\n",
    "threshold = 0.5\n",
    "for col1 in correlation_matrix.columns:\n",
    "    for col2 in correlation_matrix.columns:\n",
    "        if col1 != col2 and correlation_matrix[col1][col2] > threshold:\n",
    "            time_6 = True"
   ]
  },
  {
   "cell_type": "code",
   "execution_count": 7,
   "metadata": {},
   "outputs": [],
   "source": [
    "import json\n",
    "\n",
    "# Создаем словарь с данными, которые нужно записать\n",
    "data = {\n",
    "    \"table_name\": f\"{table_name}\"\n",
    "}\n",
    "\n",
    "# Записываем данные в JSON файл\n",
    "with open(\"name_table.json\", \"w\") as json_file:\n",
    "    json.dump(data, json_file, ensure_ascii=False, indent=4)\n"
   ]
  },
  {
   "cell_type": "code",
   "execution_count": 8,
   "metadata": {},
   "outputs": [],
   "source": [
    "import nbformat\n",
    "from nbclient import NotebookClient\n",
    "\n",
    "def run_notebook(notebook_path):\n",
    "    # Читаем файл .ipynb с указанием кодировки utf-8\n",
    "    with open(notebook_path, encoding=\"utf-8\") as f:\n",
    "        notebook = nbformat.read(f, as_version=4)\n",
    "    \n",
    "    # Инициализируем клиент для выполнения\n",
    "    client = NotebookClient(notebook)\n",
    "    \n",
    "    # Выполняем все ячейки\n",
    "    client.execute()\n",
    "\n",
    "if time_1 and time_6:\n",
    "    run_notebook(\"cod_create_dash_Anti_Frod_time.ipynb\")\n",
    "elif time_1 and not time_6:\n",
    "    run_notebook(\"cod_ctreate_dash_Anti_Frod_time_no_time_6.ipynb\")\n",
    "elif time_6 and not time_1:\n",
    "    run_notebook(\"cod_ctreate_dash_Anti_Frod_time_no_time_1.ipynb\")\n",
    "else:\n",
    "    run_notebook(\"cod_ctreate_dash_Anti_Frod_time_no_time_1_no_time_6.ipynb\")\n"
   ]
  }
 ],
 "metadata": {
  "kernelspec": {
   "display_name": "Python 3",
   "language": "python",
   "name": "python3"
  },
  "language_info": {
   "codemirror_mode": {
    "name": "ipython",
    "version": 3
   },
   "file_extension": ".py",
   "mimetype": "text/x-python",
   "name": "python",
   "nbconvert_exporter": "python",
   "pygments_lexer": "ipython3",
   "version": "3.11.6"
  }
 },
 "nbformat": 4,
 "nbformat_minor": 2
}
