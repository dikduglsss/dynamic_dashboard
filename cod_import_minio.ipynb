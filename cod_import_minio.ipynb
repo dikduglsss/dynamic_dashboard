{
 "cells": [
  {
   "cell_type": "code",
   "execution_count": 8,
   "metadata": {},
   "outputs": [
    {
     "name": "stdout",
     "output_type": "stream",
     "text": [
      "Доступные бакеты:\n",
      "- dashbord-paket\n"
     ]
    }
   ],
   "source": [
    "from minio import Minio\n",
    "from minio.error import S3Error\n",
    "\n",
    "def get_bucket_names():\n",
    "    # Укажите настройки подключения\n",
    "    endpoint = \"127.0.0.1:32020\"  # Адрес MinIO сервера\n",
    "    access_key = \"qxiYSHv8QP4QE0Ctk0fI\"  # Ваш Access Key\n",
    "    secret_key = \"34w2smESi4yNjxS9ga1ibJqhXGpdSerTsSnvkQHH\"  # Ваш Secret Key\n",
    "\n",
    "    # Инициализируем клиента MinIO\n",
    "    client = Minio(\n",
    "        endpoint,\n",
    "        access_key=access_key,\n",
    "        secret_key=secret_key,\n",
    "        secure=False  # Установите True, если используется HTTPS\n",
    "    )\n",
    "\n",
    "    try:\n",
    "        # Запрашиваем список бакетов\n",
    "        buckets = client.list_buckets()\n",
    "        if buckets:\n",
    "            print(\"Доступные бакеты:\")\n",
    "            for bucket in buckets:\n",
    "                print(f\"- {bucket.name}\")\n",
    "        else:\n",
    "            print(\"Нет доступных бакетов.\")\n",
    "    except S3Error as err:\n",
    "        print(f\"Ошибка при получении списка бакетов: {err}\")\n",
    "\n",
    "if __name__ == \"__main__\":\n",
    "    get_bucket_names()\n"
   ]
  }
 ],
 "metadata": {
  "kernelspec": {
   "display_name": "Python 3",
   "language": "python",
   "name": "python3"
  },
  "language_info": {
   "codemirror_mode": {
    "name": "ipython",
    "version": 3
   },
   "file_extension": ".py",
   "mimetype": "text/x-python",
   "name": "python",
   "nbconvert_exporter": "python",
   "pygments_lexer": "ipython3",
   "version": "3.11.6"
  }
 },
 "nbformat": 4,
 "nbformat_minor": 2
}
